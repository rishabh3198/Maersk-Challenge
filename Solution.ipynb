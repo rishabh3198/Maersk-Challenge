{
 "cells": [
  {
   "cell_type": "markdown",
   "metadata": {},
   "source": [
    "## Table of Contents\n",
    "\n",
    "\n",
    "\n",
    "1. Introduction\n",
    "\n",
    "\n",
    "2. Loading Libraries\n",
    "\n",
    "\n",
    "3. Data Loading\n",
    "\n",
    "\n",
    "4. Handling Outliers\n",
    "\n",
    "\n",
    "5. Checking number of unique values in each column.\n",
    "\n",
    "\n",
    "6. Feature Engineering\n",
    "\n",
    "    * Mean encoding of few relevant Features\n",
    "\n",
    "    * Rolling Window Features\n",
    "\n",
    "\n",
    "7. Train, Validation and Test\n",
    "\n",
    "\n",
    "8. Modelling and Evaluation\n",
    "    * Ridge Regression\n",
    "    * Decision Tree\n",
    "    * RandomForest Regressor\n",
    "    * LightGBM Regressor\n",
    "\n",
    "\n",
    "9. Conclusion"
   ]
  },
  {
   "cell_type": "markdown",
   "metadata": {},
   "source": [
    "### Introduction"
   ]
  },
  {
   "cell_type": "markdown",
   "metadata": {},
   "source": [
    "In this project, we are trying to forecast Sourcing costs based on the  ProductType, Manufacturer, Area_Code, Sourcing_Channel, Product_Size, Product_Type and Month_of_Sourcing as dependent variables.\n",
    "\n",
    "This is DS/ML Challenge from MAERSK Group called \"Sourcing Costs Forecast\" where the task is to predict Sourcing cost for Jun-21 and Training set was from Jul-20 to May-21. We were suppose to iterate over Different ML models and come up closest possible to testing dataset using training dataset and feature engineering.\n",
    "\n",
    "For this particular problem my approach was as follows:\n",
    "    * Get Some EDA (Exploratory Data Analysis) on the data set EDA.ipynb will help in finding that.\n",
    "    * Do some feature engineering after getting better understanding from EDA (Exploratory Data Analysis).\n",
    "    * Train, Test and Validation split (Train- 10 months, Test- 1 month, Validation- 1 month).\n",
    "    * Do some modelling over the Dataset.\n",
    "    * Select one best model on the basis of RMSE score and R-squared Value.\n",
    "    * Calculate Feature importance and check whether the engineered feature were important or not."
   ]
  },
  {
   "cell_type": "markdown",
   "metadata": {},
   "source": [
    "### Loading required Libraries"
   ]
  },
  {
   "cell_type": "code",
   "execution_count": 1,
   "metadata": {},
   "outputs": [],
   "source": [
    "import pandas as pd\n",
    "import numpy as np\n",
    "import matplotlib.pyplot as plt\n",
    "import seaborn as sns\n",
    "from scipy import stats\n",
    "from sklearn.preprocessing import LabelEncoder,minmax_scale,PolynomialFeatures,StandardScaler,Normalizer\n",
    "from sklearn.model_selection import KFold,GridSearchCV\n",
    "import matplotlib.pyplot as plt\n",
    "from scipy.stats import itemfreq\n",
    "import seaborn as sns\n",
    "from sklearn import linear_model\n",
    "from sklearn.model_selection import cross_val_score\n",
    "from sklearn.linear_model import Ridge\n",
    "from sklearn.metrics import mean_squared_error\n",
    "%matplotlib inline\n",
    "import datetime\n",
    "from datetime import date, timedelta\n",
    "from sklearn.tree import DecisionTreeRegressor\n",
    "from sklearn.metrics import r2_score, mean_squared_error\n",
    "from sklearn.ensemble import RandomForestRegressor\n",
    "from sklearn.model_selection import GridSearchCV\n",
    "import sys\n",
    "import lightgbm as lgb\n",
    "from lightgbm import LGBMRegressor"
   ]
  },
  {
   "cell_type": "markdown",
   "metadata": {},
   "source": [
    "### Loading Dataset"
   ]
  },
  {
   "cell_type": "code",
   "execution_count": 2,
   "metadata": {},
   "outputs": [],
   "source": [
    "train_df = pd.read_csv(\"train_data.csv\")\n",
    "train_df.columns = train_df.columns.str.replace(' ','_')\n",
    "\n",
    "test_df = pd.read_csv(\"test_data.csv\")\n",
    "test_df.columns = test_df.columns.str.replace(' ','_')"
   ]
  },
  {
   "cell_type": "code",
   "execution_count": 3,
   "metadata": {},
   "outputs": [
    {
     "data": {
      "text/html": [
       "<div>\n",
       "<style scoped>\n",
       "    .dataframe tbody tr th:only-of-type {\n",
       "        vertical-align: middle;\n",
       "    }\n",
       "\n",
       "    .dataframe tbody tr th {\n",
       "        vertical-align: top;\n",
       "    }\n",
       "\n",
       "    .dataframe thead th {\n",
       "        text-align: right;\n",
       "    }\n",
       "</style>\n",
       "<table border=\"1\" class=\"dataframe\">\n",
       "  <thead>\n",
       "    <tr style=\"text-align: right;\">\n",
       "      <th></th>\n",
       "      <th>Sourcing_Cost</th>\n",
       "    </tr>\n",
       "  </thead>\n",
       "  <tbody>\n",
       "    <tr>\n",
       "      <td>count</td>\n",
       "      <td>550176.000000</td>\n",
       "    </tr>\n",
       "    <tr>\n",
       "      <td>mean</td>\n",
       "      <td>108.817286</td>\n",
       "    </tr>\n",
       "    <tr>\n",
       "      <td>std</td>\n",
       "      <td>104.390093</td>\n",
       "    </tr>\n",
       "    <tr>\n",
       "      <td>min</td>\n",
       "      <td>-196.070000</td>\n",
       "    </tr>\n",
       "    <tr>\n",
       "      <td>25%</td>\n",
       "      <td>57.000000</td>\n",
       "    </tr>\n",
       "    <tr>\n",
       "      <td>50%</td>\n",
       "      <td>132.000000</td>\n",
       "    </tr>\n",
       "    <tr>\n",
       "      <td>75%</td>\n",
       "      <td>146.150000</td>\n",
       "    </tr>\n",
       "    <tr>\n",
       "      <td>max</td>\n",
       "      <td>32632.500000</td>\n",
       "    </tr>\n",
       "  </tbody>\n",
       "</table>\n",
       "</div>"
      ],
      "text/plain": [
       "       Sourcing_Cost\n",
       "count  550176.000000\n",
       "mean      108.817286\n",
       "std       104.390093\n",
       "min      -196.070000\n",
       "25%        57.000000\n",
       "50%       132.000000\n",
       "75%       146.150000\n",
       "max     32632.500000"
      ]
     },
     "execution_count": 3,
     "metadata": {},
     "output_type": "execute_result"
    }
   ],
   "source": [
    "train_df.describe()"
   ]
  },
  {
   "cell_type": "code",
   "execution_count": 4,
   "metadata": {},
   "outputs": [
    {
     "data": {
      "text/html": [
       "<div>\n",
       "<style scoped>\n",
       "    .dataframe tbody tr th:only-of-type {\n",
       "        vertical-align: middle;\n",
       "    }\n",
       "\n",
       "    .dataframe tbody tr th {\n",
       "        vertical-align: top;\n",
       "    }\n",
       "\n",
       "    .dataframe thead th {\n",
       "        text-align: right;\n",
       "    }\n",
       "</style>\n",
       "<table border=\"1\" class=\"dataframe\">\n",
       "  <thead>\n",
       "    <tr style=\"text-align: right;\">\n",
       "      <th></th>\n",
       "      <th>Sourcing_Cost</th>\n",
       "    </tr>\n",
       "  </thead>\n",
       "  <tbody>\n",
       "    <tr>\n",
       "      <td>count</td>\n",
       "      <td>96.000000</td>\n",
       "    </tr>\n",
       "    <tr>\n",
       "      <td>mean</td>\n",
       "      <td>106.208021</td>\n",
       "    </tr>\n",
       "    <tr>\n",
       "      <td>std</td>\n",
       "      <td>52.359484</td>\n",
       "    </tr>\n",
       "    <tr>\n",
       "      <td>min</td>\n",
       "      <td>4.140000</td>\n",
       "    </tr>\n",
       "    <tr>\n",
       "      <td>25%</td>\n",
       "      <td>59.662500</td>\n",
       "    </tr>\n",
       "    <tr>\n",
       "      <td>50%</td>\n",
       "      <td>117.245000</td>\n",
       "    </tr>\n",
       "    <tr>\n",
       "      <td>75%</td>\n",
       "      <td>144.915000</td>\n",
       "    </tr>\n",
       "    <tr>\n",
       "      <td>max</td>\n",
       "      <td>234.710000</td>\n",
       "    </tr>\n",
       "  </tbody>\n",
       "</table>\n",
       "</div>"
      ],
      "text/plain": [
       "       Sourcing_Cost\n",
       "count      96.000000\n",
       "mean      106.208021\n",
       "std        52.359484\n",
       "min         4.140000\n",
       "25%        59.662500\n",
       "50%       117.245000\n",
       "75%       144.915000\n",
       "max       234.710000"
      ]
     },
     "execution_count": 4,
     "metadata": {},
     "output_type": "execute_result"
    }
   ],
   "source": [
    "test_df.describe()"
   ]
  },
  {
   "cell_type": "code",
   "execution_count": 5,
   "metadata": {},
   "outputs": [
    {
     "data": {
      "text/plain": [
       "<matplotlib.axes._subplots.AxesSubplot at 0x7fa0a1500110>"
      ]
     },
     "execution_count": 5,
     "metadata": {},
     "output_type": "execute_result"
    },
    {
     "data": {
      "image/png": "[encoded data removed]",
      "text/plain": [
       "<Figure size 432x288 with 1 Axes>"
      ]
     },
     "metadata": {
      "needs_background": "light"
     },
     "output_type": "display_data"
    }
   ],
   "source": [
    "train_df['Sourcing_Cost'].plot.line()"
   ]
  },
  {
   "cell_type": "code",
   "execution_count": 6,
   "metadata": {},
   "outputs": [
    {
     "data": {
      "text/plain": [
       "<matplotlib.axes._subplots.AxesSubplot at 0x7fa08d324c50>"
      ]
     },
     "execution_count": 6,
     "metadata": {},
     "output_type": "execute_result"
    },
    {
     "data": {
      "image/png": "[encoded data removed]",
      "text/plain": [
       "<Figure size 432x288 with 1 Axes>"
      ]
     },
     "metadata": {
      "needs_background": "light"
     },
     "output_type": "display_data"
    }
   ],
   "source": [
    "test_df['Sourcing_Cost'].plot.line()"
   ]
  },
  {
   "cell_type": "markdown",
   "metadata": {},
   "source": [
    "### Handling outliers"
   ]
  },
  {
   "cell_type": "code",
   "execution_count": 7,
   "metadata": {},
   "outputs": [],
   "source": [
    "mean = train_df['Sourcing_Cost'].mean()\n",
    "std = train_df['Sourcing_Cost'].std()\n",
    "train_df['Sourcing_Cost'] = np.where(train_df['Sourcing_Cost'] < 0, \n",
    "                                     abs(train_df['Sourcing_Cost']), train_df['Sourcing_Cost'])\n",
    "train_df['Sourcing_Cost'] = np.where((train_df['Sourcing_Cost'] - mean).abs() > std, \n",
    "                                     mean, train_df['Sourcing_Cost'])"
   ]
  },
  {
   "cell_type": "markdown",
   "metadata": {},
   "source": [
    "In the above cell i'm trying to get rid of the outliers. <br>\n",
    "Now to get rid of outliers i applied two strategy:\n",
    "* Strategy I - For all the negative entries, take there absolute values.\n",
    "* Strategy II - For all the outliers viz. |val - mean| > std, i replaced them with mean values of the column."
   ]
  },
  {
   "cell_type": "markdown",
   "metadata": {},
   "source": [
    "#### After this step if we can check on some basic statistics then it'll be more or less same, in our training set and test set. \n",
    "\n",
    "`\n",
    "Sourcing_Cost_Train\n",
    "count\t550176.000000\n",
    "mean\t109.229810\n",
    "std\t48.525341    \n",
    "min\t4.430000     {Minimum Value}\n",
    "25%\t66.480000    {25th Percentile}\n",
    "50%\t128.310000   {50th Percentile}\n",
    "75%\t144.660000   {75th Percentile}\n",
    "max\t212.980000   {Maximum Value}`  \n",
    "\n",
    "`\n",
    "Sourcing_Cost_Test\n",
    "count\t96.000000\n",
    "mean\t106.208021\n",
    "std\t52.359484\n",
    "min\t4.140000     {Minimum Value}\n",
    "25%\t59.662500    {25th Percentile}\n",
    "50%\t117.245000   {50th Percentile}\n",
    "75%\t144.915000   {75th Percentile}\n",
    "max\t234.710000   {Maximum Value}`"
   ]
  },
  {
   "cell_type": "markdown",
   "metadata": {},
   "source": [
    "Plotting randomly 100 points to check how near my train set is to my test set. And it seems, that my random 100 points plot is quite close to my test set plot."
   ]
  },
  {
   "cell_type": "code",
   "execution_count": 8,
   "metadata": {},
   "outputs": [
    {
     "data": {
      "text/plain": [
       "<matplotlib.axes._subplots.AxesSubplot at 0x7fa08d1a5c10>"
      ]
     },
     "execution_count": 8,
     "metadata": {},
     "output_type": "execute_result"
    },
    {
     "data": {
      "image/png": "[encoded data removed]",
      "text/plain": [
       "<Figure size 432x288 with 1 Axes>"
      ]
     },
     "metadata": {
      "needs_background": "light"
     },
     "output_type": "display_data"
    }
   ],
   "source": [
    "train_df['Sourcing_Cost'][1000:1100].plot.line()"
   ]
  },
  {
   "cell_type": "markdown",
   "metadata": {},
   "source": [
    "### Checking Number of unique values in each column."
   ]
  },
  {
   "cell_type": "code",
   "execution_count": 9,
   "metadata": {},
   "outputs": [],
   "source": [
    "def uniqVals(df):\n",
    "    for i in df.columns.drop('Sourcing_Cost'):\n",
    "        print(\"{0} has {1} unique values.\".format(i, df[i].nunique()))"
   ]
  },
  {
   "cell_type": "code",
   "execution_count": 10,
   "metadata": {},
   "outputs": [
    {
     "name": "stdout",
     "output_type": "stream",
     "text": [
      "ProductType has 3 unique values.\n",
      "Manufacturer has 3 unique values.\n",
      "Area_Code has 45 unique values.\n",
      "Sourcing_Channel has 4 unique values.\n",
      "Product_Size has 3 unique values.\n",
      "Product_Type has 2 unique values.\n",
      "Month_of_Sourcing has 11 unique values.\n"
     ]
    }
   ],
   "source": [
    "uniqVals(train_df)"
   ]
  },
  {
   "cell_type": "code",
   "execution_count": 11,
   "metadata": {},
   "outputs": [
    {
     "name": "stdout",
     "output_type": "stream",
     "text": [
      "ProductType has 3 unique values.\n",
      "Manufacturer has 3 unique values.\n",
      "Area_Code has 45 unique values.\n",
      "Sourcing_Channel has 4 unique values.\n",
      "Product_Size has 3 unique values.\n",
      "Product_Type has 2 unique values.\n",
      "Month_of_Sourcing has 1 unique values.\n"
     ]
    }
   ],
   "source": [
    "uniqVals(test_df)"
   ]
  },
  {
   "cell_type": "markdown",
   "metadata": {},
   "source": [
    "## Feature Engineering"
   ]
  },
  {
   "cell_type": "markdown",
   "metadata": {},
   "source": [
    "### Extracting month and year from Month of Sourcing for both Train and Test set"
   ]
  },
  {
   "cell_type": "code",
   "execution_count": 12,
   "metadata": {},
   "outputs": [],
   "source": [
    "train_df['Month_of_Sourcing'] = pd.to_datetime(train_df['Month_of_Sourcing'], format = '%b-%y')\n",
    "train_df['month'] = train_df['Month_of_Sourcing'].dt.month.astype(np.int32)\n",
    "train_df['year'] = train_df['Month_of_Sourcing'].dt.year.astype(np.int32)\n",
    "\n",
    "test_df['Month_of_Sourcing'] = pd.to_datetime(test_df['Month_of_Sourcing'], format = '%b-%y')\n",
    "test_df['month'] = test_df['Month_of_Sourcing'].dt.month.astype(np.int32)\n",
    "test_df['year'] = test_df['Month_of_Sourcing'].dt.year.astype(np.int32)"
   ]
  },
  {
   "cell_type": "markdown",
   "metadata": {},
   "source": [
    "### Adding lag Features for lag shift upto 20 rows.\n",
    "That means if one row refers to one date then i have created lag features for around 20 days."
   ]
  },
  {
   "cell_type": "code",
   "execution_count": 13,
   "metadata": {},
   "outputs": [],
   "source": [
    "lags = [1,2,5,20]\n",
    "for lag in lags:\n",
    "    train_df['Sourcing_Cost'+str(lag)] = train_df.groupby(['ProductType', 'Manufacturer', 'Area_Code', \n",
    "                                                                 'Sourcing_Channel', 'Product_Size', 'Product_Type'], \n",
    "                                                                as_index=False)['Sourcing_Cost'].shift(lag).astype(np.float16)"
   ]
  },
  {
   "cell_type": "markdown",
   "metadata": {},
   "source": [
    "### Mean Encoding with one variable or more than one variables.\n",
    "Encoding means converting our categorical variables to numerical features.\n",
    "Mean Encoding is similar to other encoding techniques like OneHotEncoding, LabelEncoding and FrequencyEncoding. Where we are trying to get numerical features out of categorical features. This step is completely correlated to our EDA. The Features which we had analysed in our EDA has been implemented here. The feature that i thought of are:\n",
    "    * ProductType\n",
    "    * Manufacturer\n",
    "    * Area Code\n",
    "    * Sourcing Channel\n",
    "    * Product Size\n",
    "    * Product_Type\n",
    "    * Area and Sourcing Channel\n",
    "    * Area and Product Size\n",
    "    * Area and Product Type\n",
    "    * Area and Month\n",
    "    * Area and Manufacturer\n",
    "    * Area, Product Size and Month\n",
    "    * Area, Product Type and Month\n",
    "    * Area, Manufacturer and Month"
   ]
  },
  {
   "cell_type": "code",
   "execution_count": 14,
   "metadata": {},
   "outputs": [],
   "source": [
    "train_df['product_type_avg'] = train_df.groupby('Product_Type')['Sourcing_Cost'].transform('mean').astype(np.float16)\n",
    "train_df['manufacturer_cost_avg'] = train_df.groupby('Manufacturer')['Sourcing_Cost'].transform('mean').astype(np.float16)\n",
    "train_df['area_cost_avg'] = train_df.groupby('Area_Code')['Sourcing_Cost'].transform('mean').astype(np.float16)\n",
    "train_df['sourcing_channel_avg'] = train_df.groupby('Sourcing_Channel')['Sourcing_Cost'].transform('mean').astype(np.float16)\n",
    "train_df['product_size_avg'] = train_df.groupby('Product_Size')['Sourcing_Cost'].transform('mean').astype(np.float16)\n",
    "train_df['product_type_cost_avg'] = train_df.groupby(['Product_Type'])['Sourcing_Cost'].transform('mean').astype(np.float16)\n",
    "\n",
    "train_df['area_channel_cost_avg'] = train_df.groupby(['Area_Code', 'Sourcing_Channel'])['Sourcing_Cost'].transform('mean').astype(np.float16)\n",
    "train_df['area_prod_size_cost_avg'] = train_df.groupby(['Area_Code', 'Product_Size'])['Sourcing_Cost'].transform('mean').astype(np.float16)\n",
    "train_df['area_prod_type_cost_avg'] = train_df.groupby(['Area_Code', 'Product_Type'])['Sourcing_Cost'].transform('mean').astype(np.float16)\n",
    "train_df['area_month_cost_avg'] = train_df.groupby(['Area_Code', 'month'])['Sourcing_Cost'].transform('mean').astype(np.float16)\n",
    "train_df['area_manufacturer_cost_avg'] = train_df.groupby(['Area_Code', 'Manufacturer'])['Sourcing_Cost'].transform('mean').astype(np.float16)\n",
    "\n",
    "train_df['area_prod_size_month_cost_avg'] = train_df.groupby(['Area_Code', 'Product_Size', 'month'])['Sourcing_Cost'].transform('mean').astype(np.float16)\n",
    "train_df['area_prod_type_month_cost_avg'] = train_df.groupby(['Area_Code', 'Product_Type', 'month'])['Sourcing_Cost'].transform('mean').astype(np.float16)\n",
    "train_df['area_manufacturer_month_cost_avg'] = train_df.groupby(['Area_Code', 'Manufacturer', 'month'])['Sourcing_Cost'].transform('mean').astype(np.float16)\n",
    "\n",
    "train_df['monthly_product_size_avg'] = train_df.groupby(['month', 'Product_Size'])['Sourcing_Cost'].transform('mean').astype(np.float16)"
   ]
  },
  {
   "cell_type": "markdown",
   "metadata": {},
   "source": [
    "Rolling window average on the group by dataset over Sourcing Cost. I took window equal to 3 that means mid-weekly average over the train set. This is done to capture the trend over the period of last one year. "
   ]
  },
  {
   "cell_type": "code",
   "execution_count": 15,
   "metadata": {},
   "outputs": [],
   "source": [
    "train_df['rolling_cost_avg'] = train_df.groupby(['ProductType', 'Manufacturer', 'Area_Code', 'Sourcing_Channel', 'Product_Size', \n",
    "                                                  'Product_Type'])['Sourcing_Cost'].transform(lambda x: x.rolling(window=3).mean()).astype(np.float16)"
   ]
  },
  {
   "cell_type": "markdown",
   "metadata": {},
   "source": [
    "I will be creating a Costing trend feature, which will be some positive value if the daily items sold are greater than the entire duration average <br>[Jul-20 to May-21] else negative."
   ]
  },
  {
   "cell_type": "code",
   "execution_count": 16,
   "metadata": {},
   "outputs": [],
   "source": [
    "train_df['monthly_avg'] = train_df.groupby(['ProductType', 'Manufacturer', 'Area_Code', 'Sourcing_Channel', 'Product_Size', \n",
    "                                                  'Product_Type', 'month'])['Sourcing_Cost'].transform('mean').astype(np.float16)\n",
    "train_df['avg_cost'] = train_df.groupby(['ProductType', 'Manufacturer', 'Area_Code', 'Sourcing_Channel', 'Product_Size', \n",
    "                                                  'Product_Type'])['Sourcing_Cost'].transform('mean').astype(np.float16)\n",
    "train_df['costing_trend'] = (train_df['monthly_avg'] - train_df['avg_cost']).astype(np.float16)\n",
    "train_df.drop(['monthly_avg','avg_cost'],axis=1,inplace=True)"
   ]
  },
  {
   "cell_type": "markdown",
   "metadata": {},
   "source": [
    "Adding all the trend features calculated over training period with test dataset. "
   ]
  },
  {
   "cell_type": "code",
   "execution_count": 17,
   "metadata": {},
   "outputs": [],
   "source": [
    "train_df.head()\n",
    "test_df = test_df.merge(\n",
    "    train_df.drop([\"Sourcing_Cost\", \"Month_of_Sourcing\", \"month\", \"year\"], axis = 1), \n",
    "    on = ['ProductType', 'Manufacturer', 'Area_Code', 'Sourcing_Channel', 'Product_Size', 'Product_Type'], \n",
    "    how = \"inner\").drop_duplicates()"
   ]
  },
  {
   "cell_type": "markdown",
   "metadata": {},
   "source": [
    "### Converting my categorical values with one-hot encoding"
   ]
  },
  {
   "cell_type": "code",
   "execution_count": 18,
   "metadata": {},
   "outputs": [],
   "source": [
    "dummy_vars = ['ProductType','Manufacturer','Area_Code','Sourcing_Channel','Product_Size','Product_Type']\n",
    "for var in dummy_vars:\n",
    "    dummies = pd.get_dummies(train_df[var], prefix = var, drop_first = False)\n",
    "    train_df = pd.concat([train_df, dummies], axis = 1)\n",
    "\n",
    "for var in dummy_vars:\n",
    "    dummies = pd.get_dummies(test_df[var], prefix = var, drop_first = False)\n",
    "    test_df = pd.concat([test_df, dummies], axis = 1)"
   ]
  },
  {
   "cell_type": "markdown",
   "metadata": {},
   "source": [
    "Replacing NAN values with zeros, in both train and test set."
   ]
  },
  {
   "cell_type": "code",
   "execution_count": 19,
   "metadata": {},
   "outputs": [],
   "source": [
    "train_df.fillna(0, inplace = True)\n",
    "test_df.fillna(0, inplace = True)"
   ]
  },
  {
   "cell_type": "markdown",
   "metadata": {},
   "source": [
    "Creating a new function to remove unnecessary variables."
   ]
  },
  {
   "cell_type": "code",
   "execution_count": 20,
   "metadata": {},
   "outputs": [],
   "source": [
    "def remove_unnecessary_features(df, dummy_vars):\n",
    "    X = df.loc[:, (df.columns != 'ProductType') & (df.columns != 'Manufacturer') & (df.columns != 'Product_Type') & \n",
    "               (df.columns != 'Area_Code') & (df.columns != 'Sourcing_Channel') & (df.columns != 'Product_Size') & \n",
    "               (df.columns != 'Month_of_Sourcing') & (df.columns != 'Sourcing_Cost')]\n",
    "    Y = df['Sourcing_Cost']\n",
    "\n",
    "    return X, Y"
   ]
  },
  {
   "cell_type": "markdown",
   "metadata": {},
   "source": [
    "Train, Test and Validation Split <br>\n",
    "Strategy:\n",
    "    * Train (10 Months of Dataset)\n",
    "    * Validation (May 21 considered as Validation Set)\n",
    "    * Test (Jun 21 was given as Test Set)"
   ]
  },
  {
   "cell_type": "code",
   "execution_count": 21,
   "metadata": {},
   "outputs": [],
   "source": [
    "val_df = train_df[(train_df['year'] == 2021) & (train_df['month'] == 5)]\n",
    "train_df = train_df[(train_df['year'] != 2021) & (train_df['month'] != 5)]"
   ]
  },
  {
   "cell_type": "code",
   "execution_count": 22,
   "metadata": {},
   "outputs": [],
   "source": [
    "train_x, train_y = remove_unnecessary_features(train_df, dummy_vars)\n",
    "train_y_new = np.log(train_y)\n",
    "val_x, val_y = remove_unnecessary_features(val_df, dummy_vars)\n",
    "test_x, test_y = remove_unnecessary_features(test_df, dummy_vars)"
   ]
  },
  {
   "cell_type": "markdown",
   "metadata": {},
   "source": [
    "Here i'm doing a little processing on train_y. I'm taking log() of train_y so that the value decreases and it will become easy to fit my models. Then after predicting i'll do the exp() of the output."
   ]
  },
  {
   "cell_type": "markdown",
   "metadata": {},
   "source": [
    "## Modelling and evaluation"
   ]
  },
  {
   "cell_type": "markdown",
   "metadata": {},
   "source": [
    "### Ridge Regression"
   ]
  },
  {
   "cell_type": "code",
   "execution_count": 23,
   "metadata": {},
   "outputs": [
    {
     "data": {
      "text/plain": [
       "522342"
      ]
     },
     "execution_count": 23,
     "metadata": {},
     "output_type": "execute_result"
    }
   ],
   "source": [
    "len(test_y)"
   ]
  },
  {
   "cell_type": "code",
   "execution_count": 24,
   "metadata": {},
   "outputs": [
    {
     "name": "stdout",
     "output_type": "stream",
     "text": [
      "R2 Score =  0.8312743458307346\n",
      "RMSE score =  17.832975847315172 / 0.0\n",
      "R2 Score =  0.5866197566821021\n",
      "RMSE score =  28.607781227466436 / 0.0\n"
     ]
    }
   ],
   "source": [
    "ridge = Ridge(alpha=0.1, normalize = True)\n",
    "ridge.fit(train_x,train_y)\n",
    "\n",
    "ridge_val_pred=ridge.predict(val_x)\n",
    "print('R2 Score = ',r2_score(ridge_val_pred, val_y))\n",
    "print('RMSE score = ',mean_squared_error(val_y, ridge_val_pred, squared=False), '/ 0.0')\n",
    "\n",
    "ridge_pred=ridge.predict(test_x)\n",
    "print('R2 Score = ',r2_score(ridge_pred, test_y))\n",
    "print('RMSE score = ',mean_squared_error(test_y, ridge_pred, squared=False), '/ 0.0')"
   ]
  },
  {
   "cell_type": "markdown",
   "metadata": {},
   "source": [
    "In the above cell, i'm using Ridge Regression for modelling. I tried Linear Regression as well. But it was not worth adding here because it gave very bad R-Squared score of 0.354\n",
    "    * Validation Score- (R-Squared Value 0.831)\n",
    "    * Test Score- (R-Squared Value 0.586)"
   ]
  },
  {
   "cell_type": "markdown",
   "metadata": {},
   "source": [
    "### Decision Tree"
   ]
  },
  {
   "cell_type": "code",
   "execution_count": 25,
   "metadata": {},
   "outputs": [
    {
     "data": {
      "text/plain": [
       "DecisionTreeRegressor(ccp_alpha=0.0, criterion='mse', max_depth=8,\n",
       "                      max_features=None, max_leaf_nodes=5,\n",
       "                      min_impurity_decrease=0.0, min_impurity_split=None,\n",
       "                      min_samples_leaf=5, min_samples_split=2,\n",
       "                      min_weight_fraction_leaf=0.0, presort='deprecated',\n",
       "                      random_state=None, splitter='best')"
      ]
     },
     "execution_count": 25,
     "metadata": {},
     "output_type": "execute_result"
    }
   ],
   "source": [
    "decision_tree = DecisionTreeRegressor(max_depth = 8,\n",
    "                                      min_samples_leaf = 5,\n",
    "                                      max_leaf_nodes = 5)\n",
    "decision_tree.fit(train_x,train_y_new)"
   ]
  },
  {
   "cell_type": "code",
   "execution_count": 26,
   "metadata": {},
   "outputs": [
    {
     "name": "stdout",
     "output_type": "stream",
     "text": [
      "R2 score =  0.7958117397595044 / 1.0\n",
      "MSE score =  473.7844614685595 / 0.0\n",
      "RMSE score =  21.76659048791426 / 0.0\n"
     ]
    }
   ],
   "source": [
    "val_pred_y = decision_tree.predict(val_x)\n",
    "\n",
    "print('R2 score = ',r2_score(val_y, np.exp(val_pred_y)), '/ 1.0')\n",
    "print('MSE score = ',mean_squared_error(val_y, np.exp(val_pred_y)), '/ 0.0')\n",
    "print('RMSE score = ',mean_squared_error(val_y, np.exp(val_pred_y), squared=False), '/ 0.0')"
   ]
  },
  {
   "cell_type": "code",
   "execution_count": 27,
   "metadata": {},
   "outputs": [
    {
     "name": "stdout",
     "output_type": "stream",
     "text": [
      "R2 score =  0.7230774059087713 / 1.0\n",
      "MSE score =  773.5452821767342 / 0.0\n",
      "RMSE score =  27.81268203853656 / 0.0\n"
     ]
    }
   ],
   "source": [
    "pred_y = decision_tree.predict(test_x)\n",
    "# print(pred_y)\n",
    "print('R2 score = ',r2_score(test_y, np.exp(pred_y)), '/ 1.0')\n",
    "print('MSE score = ',mean_squared_error(test_y, np.exp(pred_y)), '/ 0.0')\n",
    "print('RMSE score = ',mean_squared_error(test_y, np.exp(pred_y), squared=False), '/ 0.0')"
   ]
  },
  {
   "cell_type": "markdown",
   "metadata": {},
   "source": [
    "Using a decision tree greatly improves the accurancy of model prediction. \n",
    "    * Validation Score- (R-Squared Value 0.795)\n",
    "    * Test Score- (R-Squared Value 0.723)"
   ]
  },
  {
   "cell_type": "markdown",
   "metadata": {},
   "source": [
    "### Random Forest Regressor (with cross-validation)"
   ]
  },
  {
   "cell_type": "code",
   "execution_count": 28,
   "metadata": {},
   "outputs": [
    {
     "data": {
      "text/plain": [
       "RandomForestRegressor(bootstrap=True, ccp_alpha=0.0, criterion='mse',\n",
       "                      max_depth=10, max_features='auto', max_leaf_nodes=None,\n",
       "                      max_samples=None, min_impurity_decrease=0.0,\n",
       "                      min_impurity_split=None, min_samples_leaf=3,\n",
       "                      min_samples_split=5, min_weight_fraction_leaf=0.0,\n",
       "                      n_estimators=100, n_jobs=None, oob_score=False,\n",
       "                      random_state=None, verbose=0, warm_start=False)"
      ]
     },
     "execution_count": 28,
     "metadata": {},
     "output_type": "execute_result"
    }
   ],
   "source": [
    "rf = RandomForestRegressor(n_estimators = 100,\n",
    "              criterion = 'mse',\n",
    "              max_depth = 10,\n",
    "              min_samples_split = 5,\n",
    "              min_samples_leaf = 3)\n",
    "rf.fit(train_x, train_y_new)"
   ]
  },
  {
   "cell_type": "code",
   "execution_count": 29,
   "metadata": {},
   "outputs": [
    {
     "name": "stdout",
     "output_type": "stream",
     "text": [
      "R2 score =  0.9749100366235717 / 1.0\n",
      "MSE score =  58.21703349921317 / 0.0\n",
      "RMSE score =  7.630008748305153 / 0.0\n"
     ]
    }
   ],
   "source": [
    "val_pred_y = rf.predict(val_x)\n",
    "\n",
    "print('R2 score = ',r2_score(val_y, np.exp(val_pred_y)), '/ 1.0')\n",
    "print('MSE score = ',mean_squared_error(val_y, np.exp(val_pred_y)), '/ 0.0')\n",
    "print('RMSE score = ',mean_squared_error(val_y, np.exp(val_pred_y), squared=False), '/ 0.0')"
   ]
  },
  {
   "cell_type": "code",
   "execution_count": 30,
   "metadata": {},
   "outputs": [
    {
     "name": "stdout",
     "output_type": "stream",
     "text": [
      "R2 score =  0.6398622809361785 / 1.0\n",
      "MSE score =  1005.9953194860423 / 0.0\n",
      "RMSE score =  31.717429269820123 / 0.0\n"
     ]
    }
   ],
   "source": [
    "pred_y = rf.predict(test_x)\n",
    "\n",
    "print('R2 score = ',r2_score(test_y, np.exp(pred_y)), '/ 1.0')\n",
    "print('MSE score = ',mean_squared_error(test_y, np.exp(pred_y)), '/ 0.0')\n",
    "print('RMSE score = ',mean_squared_error(test_y, np.exp(pred_y), squared=False), '/ 0.0')"
   ]
  },
  {
   "cell_type": "markdown",
   "metadata": {},
   "source": [
    "Using RandomForestRegressor for training gave us bad results. \n",
    "With Validation and training score as:\n",
    "\n",
    "    * Validation Score- (R-Squared Value 0.975)\n",
    "    * Test Score- (R-Squared Value 0.6397)"
   ]
  },
  {
   "cell_type": "markdown",
   "metadata": {},
   "source": [
    "### LightGBM Regressor"
   ]
  },
  {
   "cell_type": "code",
   "execution_count": 31,
   "metadata": {},
   "outputs": [
    {
     "name": "stdout",
     "output_type": "stream",
     "text": [
      "Training until validation scores don't improve for 30 rounds\n",
      "[20]\ttraining's rmse: 0.64538\ttraining's l2: 0.416515\tvalid_1's rmse: 0.629099\tvalid_1's l2: 0.395765\n",
      "[40]\ttraining's rmse: 0.57125\ttraining's l2: 0.326327\tvalid_1's rmse: 0.560572\tvalid_1's l2: 0.314241\n",
      "[60]\ttraining's rmse: 0.513727\ttraining's l2: 0.263915\tvalid_1's rmse: 0.510947\tvalid_1's l2: 0.261067\n",
      "[80]\ttraining's rmse: 0.470531\ttraining's l2: 0.2214\tvalid_1's rmse: 0.476048\tvalid_1's l2: 0.226622\n",
      "[100]\ttraining's rmse: 0.434667\ttraining's l2: 0.188936\tvalid_1's rmse: 0.444769\tvalid_1's l2: 0.197819\n",
      "[120]\ttraining's rmse: 0.406121\ttraining's l2: 0.164934\tvalid_1's rmse: 0.420665\tvalid_1's l2: 0.176959\n",
      "[140]\ttraining's rmse: 0.384121\ttraining's l2: 0.147549\tvalid_1's rmse: 0.402384\tvalid_1's l2: 0.161913\n",
      "[160]\ttraining's rmse: 0.366386\ttraining's l2: 0.134239\tvalid_1's rmse: 0.388118\tvalid_1's l2: 0.150636\n",
      "[180]\ttraining's rmse: 0.352226\ttraining's l2: 0.124063\tvalid_1's rmse: 0.376048\tvalid_1's l2: 0.141412\n",
      "[200]\ttraining's rmse: 0.341256\ttraining's l2: 0.116456\tvalid_1's rmse: 0.367687\tvalid_1's l2: 0.135194\n",
      "[220]\ttraining's rmse: 0.331487\ttraining's l2: 0.109884\tvalid_1's rmse: 0.359425\tvalid_1's l2: 0.129187\n",
      "[240]\ttraining's rmse: 0.323558\ttraining's l2: 0.10469\tvalid_1's rmse: 0.352931\tvalid_1's l2: 0.12456\n",
      "[260]\ttraining's rmse: 0.316459\ttraining's l2: 0.100146\tvalid_1's rmse: 0.346007\tvalid_1's l2: 0.119721\n",
      "[280]\ttraining's rmse: 0.308957\ttraining's l2: 0.0954541\tvalid_1's rmse: 0.339362\tvalid_1's l2: 0.115167\n",
      "[300]\ttraining's rmse: 0.303005\ttraining's l2: 0.091812\tvalid_1's rmse: 0.333625\tvalid_1's l2: 0.111305\n",
      "[320]\ttraining's rmse: 0.298175\ttraining's l2: 0.0889084\tvalid_1's rmse: 0.329171\tvalid_1's l2: 0.108353\n",
      "Did not meet early stopping. Best iteration is:\n",
      "[330]\ttraining's rmse: 0.295669\ttraining's l2: 0.0874202\tvalid_1's rmse: 0.326734\tvalid_1's l2: 0.106755\n"
     ]
    },
    {
     "data": {
      "text/plain": [
       "LGBMRegressor(boosting_type='gbdt', class_weight=None, colsample_bytree=0.8,\n",
       "              importance_type='split', learning_rate=0.01, max_depth=8,\n",
       "              min_child_samples=20, min_child_weight=10, min_split_gain=0.0,\n",
       "              n_estimators=330, n_jobs=-1, num_leaves=5, objective=None,\n",
       "              random_state=None, reg_alpha=0.0, reg_lambda=0.0, silent=True,\n",
       "              subsample=0.8, subsample_for_bin=200000, subsample_freq=0)"
      ]
     },
     "execution_count": 31,
     "metadata": {},
     "output_type": "execute_result"
    }
   ],
   "source": [
    "model = LGBMRegressor(n_estimators=330,\n",
    "                    learning_rate=0.01,\n",
    "                    subsample=0.8,\n",
    "                    colsample_bytree=0.8,\n",
    "                    max_depth=8,\n",
    "                    num_leaves=5,\n",
    "                    min_child_weight=10)\n",
    "\n",
    "model.fit(train_x, train_y_new, eval_set=[(train_x,train_y_new), (val_x,np.log(val_y))],\n",
    "         eval_metric='rmse', verbose=20, early_stopping_rounds=30)"
   ]
  },
  {
   "cell_type": "code",
   "execution_count": 49,
   "metadata": {},
   "outputs": [
    {
     "name": "stdout",
     "output_type": "stream",
     "text": [
      "R2 score =  0.8681681278691948 / 1.0\n",
      "MSE score =  305.8936516150314 / 0.0\n",
      "RMSE score =  17.48981565411801 / 0.0\n"
     ]
    }
   ],
   "source": [
    "val_pred_y = model.predict(val_x)\n",
    "\n",
    "print('R2 score = ',r2_score(val_y, np.exp(val_pred_y)), '/ 1.0')\n",
    "print('MSE score = ',mean_squared_error(val_y, np.exp(val_pred_y)), '/ 0.0')\n",
    "print('RMSE score = ',mean_squared_error(val_y, np.exp(val_pred_y), squared=False), '/ 0.0')"
   ]
  },
  {
   "cell_type": "code",
   "execution_count": 45,
   "metadata": {},
   "outputs": [
    {
     "name": "stdout",
     "output_type": "stream",
     "text": [
      "R2 score =  0.7931417080639437 / 1.0\n",
      "MSE score =  577.8302645596308 / 0.0\n",
      "RMSE score =  24.03810026935637 / 0.0\n"
     ]
    }
   ],
   "source": [
    "pred_y = model.predict(test_x)\n",
    "test_df['pred'] = pred_y\n",
    "test_df['pred_avg'] = test_df.groupby(['ProductType', 'Manufacturer', 'Area_Code', 'Sourcing_Channel', 'Product_Size', \n",
    "                                                  'Product_Type', 'month'])['pred'].transform('mean').astype(np.float16)\n",
    "\n",
    "print('R2 score = ', r2_score(test_y, np.exp(test_df['pred_avg'])), '/ 1.0')\n",
    "print('MSE score = ', mean_squared_error(test_y, np.exp(test_df['pred_avg'])), '/ 0.0')\n",
    "print('RMSE score = ',mean_squared_error(test_y, np.exp(test_df['pred_avg']), squared=False), '/ 0.0')"
   ]
  },
  {
   "cell_type": "code",
   "execution_count": 34,
   "metadata": {
    "scrolled": true
   },
   "outputs": [
    {
     "data": {
      "text/plain": [
       "<matplotlib.axes._subplots.AxesSubplot at 0x7fa00d463890>"
      ]
     },
     "execution_count": 34,
     "metadata": {},
     "output_type": "execute_result"
    },
    {
     "data": {
      "image/png": "[encoded data removed]",
      "text/plain": [
       "<Figure size 1296x720 with 1 Axes>"
      ]
     },
     "metadata": {
      "needs_background": "light"
     },
     "output_type": "display_data"
    }
   ],
   "source": [
    "lgb.plot_importance(model, height=0.5, figsize=(18, 10))"
   ]
  },
  {
   "cell_type": "markdown",
   "metadata": {},
   "source": [
    "Using LightGBM Regressor for training showing us that, this model is generalising very well on our dataset. <br>\n",
    "With Validation and training score as:\n",
    "    * Validation Score- (R-Squared Value 0.869)\n",
    "    * Test Score- (R-Squared Value 0.7377)"
   ]
  },
  {
   "cell_type": "markdown",
   "metadata": {},
   "source": [
    "### Conclusion"
   ]
  },
  {
   "cell_type": "markdown",
   "metadata": {},
   "source": [
    "We are getting following results on applying data set on different models:\n",
    "\n",
    "Model <br>\n",
    "R-Squared Value\n",
    "\n",
    "1. Ridge Regression <br>\n",
    "   R-Squared Value: 0.586 <br>\n",
    "   RMSE Score = 28.60\n",
    "\n",
    "\n",
    "2. Decision Tree Regression <br>\n",
    "   R-Squared Value: 0.723 <br>\n",
    "   RMSE Score = 27.81\n",
    "   \n",
    "   \n",
    "3. Random Forest Regression <br>\n",
    "   R-Squared Value: 0.639 <br>\n",
    "   RMSE Score = 31.71\n",
    "\n",
    "\n",
    "4. LightGBM Regression <br>\n",
    "   R-Squared Value: 0.737 <br>\n",
    "   RMSE Score = 27.06"
   ]
  },
  {
   "cell_type": "markdown",
   "metadata": {},
   "source": [
    "Feature Importance:\n",
    "    * The Features that were created for Trend capture are the best found feature set. \n",
    "      For Eg: Lag Features, Rolling Window average Feature, Costing trend.\n",
    "    * Other Features such as mean encoded features were also the good found.\n",
    "    * Apart from above two only one-hot encoded features were used."
   ]
  }
 ],
 "metadata": {
  "kernelspec": {
   "display_name": "Python 3",
   "language": "python",
   "name": "python3"
  },
  "language_info": {
   "codemirror_mode": {
    "name": "ipython",
    "version": 3
   },
   "file_extension": ".py",
   "mimetype": "text/x-python",
   "name": "python",
   "nbconvert_exporter": "python",
   "pygments_lexer": "ipython3",
   "version": "3.7.4"
  }
 },
 "nbformat": 4,
 "nbformat_minor": 2
}
